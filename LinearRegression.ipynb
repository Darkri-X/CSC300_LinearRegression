{
 "cells": [
  {
   "cell_type": "markdown",
   "metadata": {},
   "source": [
    "## Goal\n",
    "Use your data science knowledge to explore the data provided and create Linear Regression models to predict how many bikes will be rented based on historical information.\n",
    "## Course Learning Outcomes (CLO) Assessed\n",
    "- CLO #1 Explain common models and processing pipelines in machine learning applications\n",
    "- CLO #2 Apply machine learning algorithms to design solutions for real problems\n",
    "- CLO #4 Analyse results and solutions to verify their correctness and impact on decision making\n",
    "## Assessment Criteria and Rubric\n",
    "This assessment is about data exploration and reasoning over the modelling outcome.\n",
    "You will likely face overfitting and will have to iterate between data engineering and modelling until you get satisfactory results.\n",
    "It is taken for granted that the code must be readable and has comments indicating what are you doing. Poor readability will detract points from grading.\n",
    "### Data Engineering\n",
    "When appropriate:\n",
    "- Data quality (no nulls or structural errors).\n",
    "- Dummy variables created.\n",
    "- New variables are created (when appropriate).\n",
    "- Outliers treatments\n",
    "### Exploratory Data Analysis\n",
    "#### Exploration of:\n",
    "- Numerical features\n",
    "- Categorical features\n",
    "- Statistical analysis\n",
    "- Correlations\n",
    "### Data pre-processing\n",
    "#### When appropriate:\n",
    "- Scaling\n",
    "- Train/Test split\n",
    "### Modelling\n",
    "#### At least:\n",
    "- Three LR models (Vanilla, Ridge, Lasso).\n",
    "- RMSE at acceptable levels.\n",
    "#### Nice to have:\n",
    "- No overfitting. (r2 near 1, or RMSE below 0 is normally a clear indicator that you are overfitting)\n",
    "- Models RMSE at acceptable levels.\n",
    "- Models R2 at acceptable levels.\n",
    "- Parameters optimised (when appropriate).\n",
    "### Reasoning\n",
    "1. Explain why you decided to do things the way you did.\n",
    "2. For example, but not limited to:\n",
    "3. Why plot \"XYZ\"? What did you want to see?\n",
    "4. Why use the \"XYZ\" approach? (scaling or not scaling, using parameter A or B etc.)\n",
    "5. Why do you think model A is better than B?\n",
    "6. Why feature A has more relevance than feature B?"
   ]
  },
  {
   "cell_type": "code",
   "execution_count": 226,
   "metadata": {},
   "outputs": [],
   "source": [
    "import pandas as pd"
   ]
  },
  {
   "cell_type": "code",
   "execution_count": 227,
   "metadata": {},
   "outputs": [
    {
     "name": "stdout",
     "output_type": "stream",
     "text": [
      "       House_ID Month  Area_sq_ft Occupants Heating_Type  Age_of_Building  \\\n",
      "0          7271   Jan       662.0         5          NaN               27   \n",
      "1           861   Oct      1253.0         2          NaN               13   \n",
      "2          5391   Dec         NaN         3          Gas               22   \n",
      "3          5192   Aug      1535.0         1          NaN               16   \n",
      "4          5735   Sep      1336.0         5          NaN               13   \n",
      "...         ...   ...         ...       ...          ...              ...   \n",
      "99995      5681   Nov       818.0         3          Gas               12   \n",
      "99996      8130   Dec      1521.0         5          NaN               24   \n",
      "99997      4647   Aug      1086.0         4     Electric               33   \n",
      "99998      2738   Mar         NaN         1     Electric               13   \n",
      "99999      7874   Jun      2062.0         2          NaN               13   \n",
      "\n",
      "      Insulation_Quality  Daily_Average_Consumption_kWh  Season  \\\n",
      "0                   Good                      14.335539  Spring   \n",
      "1                cverage                      25.917839  Spring   \n",
      "2                   Poor                      33.127843  Summer   \n",
      "3                   Good                       7.451494  Autumn   \n",
      "4              Excellent                      34.649571  Winter   \n",
      "...                  ...                            ...     ...   \n",
      "99995            Average                      14.563547  Spring   \n",
      "99996               Good                      34.491981  Summer   \n",
      "99997               Poor                      37.545877  Winter   \n",
      "99998               Poor                      44.767828  Autumn   \n",
      "99999          Excellent                      23.005910  Spring   \n",
      "\n",
      "       Energy_Efficiency_Rating  Tariff_Type  Bill_Amount  \\\n",
      "0                             2  Time-of-Use    88.741986   \n",
      "1                             3     Variable    92.354940   \n",
      "2                             6        Fixed    96.708638   \n",
      "3                             6     Variable    95.568663   \n",
      "4                            10     Variable          NaN   \n",
      "...                         ...          ...          ...   \n",
      "99995                         7  Time-of-Use    88.838885   \n",
      "99996                         1  Time-of-Use   110.706563   \n",
      "99997                         6     Variable    62.695466   \n",
      "99998                         3  Time-of-Use   134.499374   \n",
      "99999                         6        Fixed   105.742873   \n",
      "\n",
      "      Renewable_Energy_Installed  Temperature_Average  Power_Outages  \\\n",
      "0                            Yes            55.467771              1   \n",
      "1                            Yes            36.388473              1   \n",
      "2                             No            94.550243              0   \n",
      "3                             No            62.862087              2   \n",
      "4                             No            93.559405              3   \n",
      "...                          ...                  ...            ...   \n",
      "99995                         No            43.538531              1   \n",
      "99996                        Yes            49.946408              2   \n",
      "99997                         No            75.376558              1   \n",
      "99998                         No            75.297441              1   \n",
      "99999                         No            40.132343              3   \n",
      "\n",
      "       Monthly_Consumption_kWh  \n",
      "0                   501.232780  \n",
      "1                   742.352878  \n",
      "2                  1018.708608  \n",
      "3                   199.420939  \n",
      "4                   933.151370  \n",
      "...                        ...  \n",
      "99995               420.040098  \n",
      "99996              1056.382168  \n",
      "99997              1163.992910  \n",
      "99998              1400.997863  \n",
      "99999               640.005957  \n",
      "\n",
      "[100000 rows x 16 columns]\n"
     ]
    }
   ],
   "source": [
    "df = pd.read_csv('Energy_Consumption_Data.csv')\n",
    "print(df)"
   ]
  },
  {
   "cell_type": "code",
   "execution_count": 228,
   "metadata": {},
   "outputs": [
    {
     "data": {
      "text/html": [
       "<div>\n",
       "<style scoped>\n",
       "    .dataframe tbody tr th:only-of-type {\n",
       "        vertical-align: middle;\n",
       "    }\n",
       "\n",
       "    .dataframe tbody tr th {\n",
       "        vertical-align: top;\n",
       "    }\n",
       "\n",
       "    .dataframe thead th {\n",
       "        text-align: right;\n",
       "    }\n",
       "</style>\n",
       "<table border=\"1\" class=\"dataframe\">\n",
       "  <thead>\n",
       "    <tr style=\"text-align: right;\">\n",
       "      <th></th>\n",
       "      <th>House_ID</th>\n",
       "      <th>Month</th>\n",
       "      <th>Area_sq_ft</th>\n",
       "      <th>Occupants</th>\n",
       "      <th>Heating_Type</th>\n",
       "      <th>Age_of_Building</th>\n",
       "      <th>Insulation_Quality</th>\n",
       "      <th>Daily_Average_Consumption_kWh</th>\n",
       "      <th>Season</th>\n",
       "      <th>Energy_Efficiency_Rating</th>\n",
       "      <th>Tariff_Type</th>\n",
       "      <th>Bill_Amount</th>\n",
       "      <th>Renewable_Energy_Installed</th>\n",
       "      <th>Temperature_Average</th>\n",
       "      <th>Power_Outages</th>\n",
       "      <th>Monthly_Consumption_kWh</th>\n",
       "    </tr>\n",
       "  </thead>\n",
       "  <tbody>\n",
       "    <tr>\n",
       "      <th>0</th>\n",
       "      <td>7271</td>\n",
       "      <td>Jan</td>\n",
       "      <td>662.0</td>\n",
       "      <td>5</td>\n",
       "      <td>NaN</td>\n",
       "      <td>27</td>\n",
       "      <td>Good</td>\n",
       "      <td>14.335539</td>\n",
       "      <td>Spring</td>\n",
       "      <td>2</td>\n",
       "      <td>Time-of-Use</td>\n",
       "      <td>88.741986</td>\n",
       "      <td>Yes</td>\n",
       "      <td>55.467771</td>\n",
       "      <td>1</td>\n",
       "      <td>501.232780</td>\n",
       "    </tr>\n",
       "    <tr>\n",
       "      <th>1</th>\n",
       "      <td>861</td>\n",
       "      <td>Oct</td>\n",
       "      <td>1253.0</td>\n",
       "      <td>2</td>\n",
       "      <td>NaN</td>\n",
       "      <td>13</td>\n",
       "      <td>cverage</td>\n",
       "      <td>25.917839</td>\n",
       "      <td>Spring</td>\n",
       "      <td>3</td>\n",
       "      <td>Variable</td>\n",
       "      <td>92.354940</td>\n",
       "      <td>Yes</td>\n",
       "      <td>36.388473</td>\n",
       "      <td>1</td>\n",
       "      <td>742.352878</td>\n",
       "    </tr>\n",
       "    <tr>\n",
       "      <th>2</th>\n",
       "      <td>5391</td>\n",
       "      <td>Dec</td>\n",
       "      <td>NaN</td>\n",
       "      <td>3</td>\n",
       "      <td>Gas</td>\n",
       "      <td>22</td>\n",
       "      <td>Poor</td>\n",
       "      <td>33.127843</td>\n",
       "      <td>Summer</td>\n",
       "      <td>6</td>\n",
       "      <td>Fixed</td>\n",
       "      <td>96.708638</td>\n",
       "      <td>No</td>\n",
       "      <td>94.550243</td>\n",
       "      <td>0</td>\n",
       "      <td>1018.708608</td>\n",
       "    </tr>\n",
       "    <tr>\n",
       "      <th>3</th>\n",
       "      <td>5192</td>\n",
       "      <td>Aug</td>\n",
       "      <td>1535.0</td>\n",
       "      <td>1</td>\n",
       "      <td>NaN</td>\n",
       "      <td>16</td>\n",
       "      <td>Good</td>\n",
       "      <td>7.451494</td>\n",
       "      <td>Autumn</td>\n",
       "      <td>6</td>\n",
       "      <td>Variable</td>\n",
       "      <td>95.568663</td>\n",
       "      <td>No</td>\n",
       "      <td>62.862087</td>\n",
       "      <td>2</td>\n",
       "      <td>199.420939</td>\n",
       "    </tr>\n",
       "    <tr>\n",
       "      <th>4</th>\n",
       "      <td>5735</td>\n",
       "      <td>Sep</td>\n",
       "      <td>1336.0</td>\n",
       "      <td>5</td>\n",
       "      <td>NaN</td>\n",
       "      <td>13</td>\n",
       "      <td>Excellent</td>\n",
       "      <td>34.649571</td>\n",
       "      <td>Winter</td>\n",
       "      <td>10</td>\n",
       "      <td>Variable</td>\n",
       "      <td>NaN</td>\n",
       "      <td>No</td>\n",
       "      <td>93.559405</td>\n",
       "      <td>3</td>\n",
       "      <td>933.151370</td>\n",
       "    </tr>\n",
       "  </tbody>\n",
       "</table>\n",
       "</div>"
      ],
      "text/plain": [
       "   House_ID Month  Area_sq_ft Occupants Heating_Type  Age_of_Building  \\\n",
       "0      7271   Jan       662.0         5          NaN               27   \n",
       "1       861   Oct      1253.0         2          NaN               13   \n",
       "2      5391   Dec         NaN         3          Gas               22   \n",
       "3      5192   Aug      1535.0         1          NaN               16   \n",
       "4      5735   Sep      1336.0         5          NaN               13   \n",
       "\n",
       "  Insulation_Quality  Daily_Average_Consumption_kWh  Season  \\\n",
       "0               Good                      14.335539  Spring   \n",
       "1            cverage                      25.917839  Spring   \n",
       "2               Poor                      33.127843  Summer   \n",
       "3               Good                       7.451494  Autumn   \n",
       "4          Excellent                      34.649571  Winter   \n",
       "\n",
       "   Energy_Efficiency_Rating  Tariff_Type  Bill_Amount  \\\n",
       "0                         2  Time-of-Use    88.741986   \n",
       "1                         3     Variable    92.354940   \n",
       "2                         6        Fixed    96.708638   \n",
       "3                         6     Variable    95.568663   \n",
       "4                        10     Variable          NaN   \n",
       "\n",
       "  Renewable_Energy_Installed  Temperature_Average  Power_Outages  \\\n",
       "0                        Yes            55.467771              1   \n",
       "1                        Yes            36.388473              1   \n",
       "2                         No            94.550243              0   \n",
       "3                         No            62.862087              2   \n",
       "4                         No            93.559405              3   \n",
       "\n",
       "   Monthly_Consumption_kWh  \n",
       "0               501.232780  \n",
       "1               742.352878  \n",
       "2              1018.708608  \n",
       "3               199.420939  \n",
       "4               933.151370  "
      ]
     },
     "execution_count": 228,
     "metadata": {},
     "output_type": "execute_result"
    }
   ],
   "source": [
    "# df.info()\n",
    "df.head()"
   ]
  },
  {
   "cell_type": "code",
   "execution_count": 229,
   "metadata": {},
   "outputs": [],
   "source": [
    "# Useful variables\n",
    "columnNames = ['House_ID', 'Month', 'Area_sq_ft', 'Occupants', 'Heating_Type',\n",
    "    'Age_of_Building', 'Insulation_Quality',\n",
    "    'Daily_Average_Consumption_kWh', 'Season', 'Energy_Efficiency_Rating',\n",
    "    'Tariff_Type', 'Bill_Amount', 'Renewable_Energy_Installed',\n",
    "    'Temperature_Average', 'Power_Outages', 'Monthly_Consumption_kWh'\n",
    "    ]"
   ]
  },
  {
   "cell_type": "code",
   "execution_count": 230,
   "metadata": {},
   "outputs": [],
   "source": [
    "def printColumnValues(df, column_name):\n",
    "    # Convert the column values to a list\n",
    "    values = df[column_name].unique().tolist()\n",
    "\n",
    "    # Print the list\n",
    "    print(values)"
   ]
  },
  {
   "cell_type": "code",
   "execution_count": 231,
   "metadata": {},
   "outputs": [],
   "source": [
    "# Initialize an empty list to store the sizes\n",
    "sizes = []\n",
    "def dfSize(df):\n",
    "    # Get the current size of the DataFrame\n",
    "    current_size = df.shape\n",
    "    print(f\"Current size: {current_size}\")\n",
    "    # If there are previous sizes stored, print the last one\n",
    "    if sizes:\n",
    "        print(f\"Previous size: {sizes[-1]}\")\n",
    "    # Store the current size\n",
    "    sizes.append(current_size)"
   ]
  },
  {
   "cell_type": "markdown",
   "metadata": {},
   "source": [
    "### Cleaning Data To-Do\n",
    "After using the above function to see what kind of unique variables are within each of the columns. I have summarized how to approach the `data cleaning` \n",
    "- ~~`House_ID` - Drop~~\n",
    "- ~~`Month` - Drop~~\n",
    "- ~~`Area_sq_ft` - Check Float~~\n",
    "- ~~`Occupants` - convert 'five' to 5~~\n",
    "- ~~`Heating_Type` - Word length is word~~\n",
    "- ~~`Age_of_Building` - remove --~~\n",
    "- ~~`Insulation_Quality` - Word length is word~~\n",
    "- ~~`Daily_Average_Consumption_kWh` - no **negatives**, float, no **Null**~~\n",
    "~~- `Season` - Use this to sort~~\n",
    "- ~~`Energy_Efficiency_Rating` - 1-10 not too sure how useful~~\n",
    "- ~~`Tariff_Type` - Its fucked Word length is Words~~\n",
    "- `Bill_Amount` - no **negatives**, float, no **Null**\n",
    "- `Renewable_Energy_Installed` - Kind of useless\n",
    "- `Temperature_Average` - not really that useful\n",
    "- `Power_Outages` - needs to be accounted for\n",
    "- `Monthly_Consumption_kWh` - cant figure out if its derived from daily consumption"
   ]
  },
  {
   "cell_type": "code",
   "execution_count": 232,
   "metadata": {},
   "outputs": [
    {
     "name": "stdout",
     "output_type": "stream",
     "text": [
      "Current size: (100000, 16)\n"
     ]
    }
   ],
   "source": [
    "dfSize(df)"
   ]
  },
  {
   "cell_type": "code",
   "execution_count": 233,
   "metadata": {},
   "outputs": [],
   "source": [
    "# df.dtypes"
   ]
  },
  {
   "cell_type": "code",
   "execution_count": 234,
   "metadata": {},
   "outputs": [
    {
     "data": {
      "text/html": [
       "<div>\n",
       "<style scoped>\n",
       "    .dataframe tbody tr th:only-of-type {\n",
       "        vertical-align: middle;\n",
       "    }\n",
       "\n",
       "    .dataframe tbody tr th {\n",
       "        vertical-align: top;\n",
       "    }\n",
       "\n",
       "    .dataframe thead th {\n",
       "        text-align: right;\n",
       "    }\n",
       "</style>\n",
       "<table border=\"1\" class=\"dataframe\">\n",
       "  <thead>\n",
       "    <tr style=\"text-align: right;\">\n",
       "      <th></th>\n",
       "      <th>Month</th>\n",
       "      <th>Area_sq_ft</th>\n",
       "      <th>Occupants</th>\n",
       "      <th>Heating_Type</th>\n",
       "      <th>Age_of_Building</th>\n",
       "      <th>Insulation_Quality</th>\n",
       "      <th>Daily_Average_Consumption_kWh</th>\n",
       "      <th>Season</th>\n",
       "      <th>Energy_Efficiency_Rating</th>\n",
       "      <th>Tariff_Type</th>\n",
       "      <th>Bill_Amount</th>\n",
       "      <th>Renewable_Energy_Installed</th>\n",
       "      <th>Temperature_Average</th>\n",
       "      <th>Power_Outages</th>\n",
       "      <th>Monthly_Consumption_kWh</th>\n",
       "    </tr>\n",
       "  </thead>\n",
       "  <tbody>\n",
       "    <tr>\n",
       "      <th>0</th>\n",
       "      <td>Jan</td>\n",
       "      <td>662.0</td>\n",
       "      <td>5</td>\n",
       "      <td>NaN</td>\n",
       "      <td>27</td>\n",
       "      <td>Good</td>\n",
       "      <td>14.335539</td>\n",
       "      <td>Spring</td>\n",
       "      <td>2</td>\n",
       "      <td>Time-of-Use</td>\n",
       "      <td>88.741986</td>\n",
       "      <td>Yes</td>\n",
       "      <td>55.467771</td>\n",
       "      <td>1</td>\n",
       "      <td>501.232780</td>\n",
       "    </tr>\n",
       "    <tr>\n",
       "      <th>1</th>\n",
       "      <td>Oct</td>\n",
       "      <td>1253.0</td>\n",
       "      <td>2</td>\n",
       "      <td>NaN</td>\n",
       "      <td>13</td>\n",
       "      <td>cverage</td>\n",
       "      <td>25.917839</td>\n",
       "      <td>Spring</td>\n",
       "      <td>3</td>\n",
       "      <td>Variable</td>\n",
       "      <td>92.354940</td>\n",
       "      <td>Yes</td>\n",
       "      <td>36.388473</td>\n",
       "      <td>1</td>\n",
       "      <td>742.352878</td>\n",
       "    </tr>\n",
       "    <tr>\n",
       "      <th>2</th>\n",
       "      <td>Dec</td>\n",
       "      <td>NaN</td>\n",
       "      <td>3</td>\n",
       "      <td>Gas</td>\n",
       "      <td>22</td>\n",
       "      <td>Poor</td>\n",
       "      <td>33.127843</td>\n",
       "      <td>Summer</td>\n",
       "      <td>6</td>\n",
       "      <td>Fixed</td>\n",
       "      <td>96.708638</td>\n",
       "      <td>No</td>\n",
       "      <td>94.550243</td>\n",
       "      <td>0</td>\n",
       "      <td>1018.708608</td>\n",
       "    </tr>\n",
       "    <tr>\n",
       "      <th>3</th>\n",
       "      <td>Aug</td>\n",
       "      <td>1535.0</td>\n",
       "      <td>1</td>\n",
       "      <td>NaN</td>\n",
       "      <td>16</td>\n",
       "      <td>Good</td>\n",
       "      <td>7.451494</td>\n",
       "      <td>Autumn</td>\n",
       "      <td>6</td>\n",
       "      <td>Variable</td>\n",
       "      <td>95.568663</td>\n",
       "      <td>No</td>\n",
       "      <td>62.862087</td>\n",
       "      <td>2</td>\n",
       "      <td>199.420939</td>\n",
       "    </tr>\n",
       "    <tr>\n",
       "      <th>4</th>\n",
       "      <td>Sep</td>\n",
       "      <td>1336.0</td>\n",
       "      <td>5</td>\n",
       "      <td>NaN</td>\n",
       "      <td>13</td>\n",
       "      <td>Excellent</td>\n",
       "      <td>34.649571</td>\n",
       "      <td>Winter</td>\n",
       "      <td>10</td>\n",
       "      <td>Variable</td>\n",
       "      <td>NaN</td>\n",
       "      <td>No</td>\n",
       "      <td>93.559405</td>\n",
       "      <td>3</td>\n",
       "      <td>933.151370</td>\n",
       "    </tr>\n",
       "  </tbody>\n",
       "</table>\n",
       "</div>"
      ],
      "text/plain": [
       "  Month  Area_sq_ft Occupants Heating_Type  Age_of_Building  \\\n",
       "0   Jan       662.0         5          NaN               27   \n",
       "1   Oct      1253.0         2          NaN               13   \n",
       "2   Dec         NaN         3          Gas               22   \n",
       "3   Aug      1535.0         1          NaN               16   \n",
       "4   Sep      1336.0         5          NaN               13   \n",
       "\n",
       "  Insulation_Quality  Daily_Average_Consumption_kWh  Season  \\\n",
       "0               Good                      14.335539  Spring   \n",
       "1            cverage                      25.917839  Spring   \n",
       "2               Poor                      33.127843  Summer   \n",
       "3               Good                       7.451494  Autumn   \n",
       "4          Excellent                      34.649571  Winter   \n",
       "\n",
       "   Energy_Efficiency_Rating  Tariff_Type  Bill_Amount  \\\n",
       "0                         2  Time-of-Use    88.741986   \n",
       "1                         3     Variable    92.354940   \n",
       "2                         6        Fixed    96.708638   \n",
       "3                         6     Variable    95.568663   \n",
       "4                        10     Variable          NaN   \n",
       "\n",
       "  Renewable_Energy_Installed  Temperature_Average  Power_Outages  \\\n",
       "0                        Yes            55.467771              1   \n",
       "1                        Yes            36.388473              1   \n",
       "2                         No            94.550243              0   \n",
       "3                         No            62.862087              2   \n",
       "4                         No            93.559405              3   \n",
       "\n",
       "   Monthly_Consumption_kWh  \n",
       "0               501.232780  \n",
       "1               742.352878  \n",
       "2              1018.708608  \n",
       "3               199.420939  \n",
       "4               933.151370  "
      ]
     },
     "execution_count": 234,
     "metadata": {},
     "output_type": "execute_result"
    }
   ],
   "source": [
    "# Drop columns that are not useful\n",
    "# We do not need to know what house ID is consuming the energy\n",
    "df.drop('House_ID', axis=1, inplace=True)\n",
    "df.head() # Check if the column was dropped"
   ]
  },
  {
   "cell_type": "code",
   "execution_count": 235,
   "metadata": {},
   "outputs": [
    {
     "data": {
      "text/html": [
       "<div>\n",
       "<style scoped>\n",
       "    .dataframe tbody tr th:only-of-type {\n",
       "        vertical-align: middle;\n",
       "    }\n",
       "\n",
       "    .dataframe tbody tr th {\n",
       "        vertical-align: top;\n",
       "    }\n",
       "\n",
       "    .dataframe thead th {\n",
       "        text-align: right;\n",
       "    }\n",
       "</style>\n",
       "<table border=\"1\" class=\"dataframe\">\n",
       "  <thead>\n",
       "    <tr style=\"text-align: right;\">\n",
       "      <th></th>\n",
       "      <th>Area_sq_ft</th>\n",
       "      <th>Occupants</th>\n",
       "      <th>Heating_Type</th>\n",
       "      <th>Age_of_Building</th>\n",
       "      <th>Insulation_Quality</th>\n",
       "      <th>Daily_Average_Consumption_kWh</th>\n",
       "      <th>Season</th>\n",
       "      <th>Energy_Efficiency_Rating</th>\n",
       "      <th>Tariff_Type</th>\n",
       "      <th>Bill_Amount</th>\n",
       "      <th>Renewable_Energy_Installed</th>\n",
       "      <th>Temperature_Average</th>\n",
       "      <th>Power_Outages</th>\n",
       "      <th>Monthly_Consumption_kWh</th>\n",
       "    </tr>\n",
       "  </thead>\n",
       "  <tbody>\n",
       "    <tr>\n",
       "      <th>0</th>\n",
       "      <td>662.0</td>\n",
       "      <td>5</td>\n",
       "      <td>NaN</td>\n",
       "      <td>27</td>\n",
       "      <td>Good</td>\n",
       "      <td>14.335539</td>\n",
       "      <td>Spring</td>\n",
       "      <td>2</td>\n",
       "      <td>Time-of-Use</td>\n",
       "      <td>88.741986</td>\n",
       "      <td>Yes</td>\n",
       "      <td>55.467771</td>\n",
       "      <td>1</td>\n",
       "      <td>501.232780</td>\n",
       "    </tr>\n",
       "    <tr>\n",
       "      <th>1</th>\n",
       "      <td>1253.0</td>\n",
       "      <td>2</td>\n",
       "      <td>NaN</td>\n",
       "      <td>13</td>\n",
       "      <td>cverage</td>\n",
       "      <td>25.917839</td>\n",
       "      <td>Spring</td>\n",
       "      <td>3</td>\n",
       "      <td>Variable</td>\n",
       "      <td>92.354940</td>\n",
       "      <td>Yes</td>\n",
       "      <td>36.388473</td>\n",
       "      <td>1</td>\n",
       "      <td>742.352878</td>\n",
       "    </tr>\n",
       "    <tr>\n",
       "      <th>2</th>\n",
       "      <td>NaN</td>\n",
       "      <td>3</td>\n",
       "      <td>Gas</td>\n",
       "      <td>22</td>\n",
       "      <td>Poor</td>\n",
       "      <td>33.127843</td>\n",
       "      <td>Summer</td>\n",
       "      <td>6</td>\n",
       "      <td>Fixed</td>\n",
       "      <td>96.708638</td>\n",
       "      <td>No</td>\n",
       "      <td>94.550243</td>\n",
       "      <td>0</td>\n",
       "      <td>1018.708608</td>\n",
       "    </tr>\n",
       "    <tr>\n",
       "      <th>3</th>\n",
       "      <td>1535.0</td>\n",
       "      <td>1</td>\n",
       "      <td>NaN</td>\n",
       "      <td>16</td>\n",
       "      <td>Good</td>\n",
       "      <td>7.451494</td>\n",
       "      <td>Autumn</td>\n",
       "      <td>6</td>\n",
       "      <td>Variable</td>\n",
       "      <td>95.568663</td>\n",
       "      <td>No</td>\n",
       "      <td>62.862087</td>\n",
       "      <td>2</td>\n",
       "      <td>199.420939</td>\n",
       "    </tr>\n",
       "    <tr>\n",
       "      <th>4</th>\n",
       "      <td>1336.0</td>\n",
       "      <td>5</td>\n",
       "      <td>NaN</td>\n",
       "      <td>13</td>\n",
       "      <td>Excellent</td>\n",
       "      <td>34.649571</td>\n",
       "      <td>Winter</td>\n",
       "      <td>10</td>\n",
       "      <td>Variable</td>\n",
       "      <td>NaN</td>\n",
       "      <td>No</td>\n",
       "      <td>93.559405</td>\n",
       "      <td>3</td>\n",
       "      <td>933.151370</td>\n",
       "    </tr>\n",
       "  </tbody>\n",
       "</table>\n",
       "</div>"
      ],
      "text/plain": [
       "   Area_sq_ft Occupants Heating_Type  Age_of_Building Insulation_Quality  \\\n",
       "0       662.0         5          NaN               27               Good   \n",
       "1      1253.0         2          NaN               13            cverage   \n",
       "2         NaN         3          Gas               22               Poor   \n",
       "3      1535.0         1          NaN               16               Good   \n",
       "4      1336.0         5          NaN               13          Excellent   \n",
       "\n",
       "   Daily_Average_Consumption_kWh  Season  Energy_Efficiency_Rating  \\\n",
       "0                      14.335539  Spring                         2   \n",
       "1                      25.917839  Spring                         3   \n",
       "2                      33.127843  Summer                         6   \n",
       "3                       7.451494  Autumn                         6   \n",
       "4                      34.649571  Winter                        10   \n",
       "\n",
       "   Tariff_Type  Bill_Amount Renewable_Energy_Installed  Temperature_Average  \\\n",
       "0  Time-of-Use    88.741986                        Yes            55.467771   \n",
       "1     Variable    92.354940                        Yes            36.388473   \n",
       "2        Fixed    96.708638                         No            94.550243   \n",
       "3     Variable    95.568663                         No            62.862087   \n",
       "4     Variable          NaN                         No            93.559405   \n",
       "\n",
       "   Power_Outages  Monthly_Consumption_kWh  \n",
       "0              1               501.232780  \n",
       "1              1               742.352878  \n",
       "2              0              1018.708608  \n",
       "3              2               199.420939  \n",
       "4              3               933.151370  "
      ]
     },
     "execution_count": 235,
     "metadata": {},
     "output_type": "execute_result"
    }
   ],
   "source": [
    "# We do not need to know the month as season is a better general indicator for prediction\n",
    "df.drop('Month', axis=1, inplace=True)\n",
    "df.head() # Check if the column was dropped\n"
   ]
  },
  {
   "cell_type": "markdown",
   "metadata": {},
   "source": [
    "After dropping `Month` and `House_ID` the data-frame can start to be cleaned."
   ]
  },
  {
   "cell_type": "code",
   "execution_count": 236,
   "metadata": {},
   "outputs": [
    {
     "name": "stdout",
     "output_type": "stream",
     "text": [
      "Current size: (100000, 14)\n",
      "Previous size: (100000, 16)\n"
     ]
    }
   ],
   "source": [
    "dfSize(df)"
   ]
  },
  {
   "cell_type": "markdown",
   "metadata": {},
   "source": [
    "### Outliers\n",
    "Created a function which takes a df and a column and removes the outliers based on the IQR."
   ]
  },
  {
   "cell_type": "code",
   "execution_count": 237,
   "metadata": {},
   "outputs": [],
   "source": [
    "def outliersBeGone(df, column):    \n",
    "    Q1 = df[column].quantile(0.25)\n",
    "    Q3 = df[column].quantile(0.75)\n",
    "    IQR = Q3 - Q1\n",
    "\n",
    "    dfOut = df[~((df[column] < (Q1 - 1.5 * IQR)) | (df[column] > (Q3 + 1.5 * IQR)))]\n",
    "    return dfOut"
   ]
  },
  {
   "cell_type": "markdown",
   "metadata": {},
   "source": [
    "#### Area Square Foot\n",
    "- Drop `NaN` rows\n",
    "- Anything below equal or below `zero` removed and needs to be `float`\n",
    "- ***fix*** Value may be not be `float` but valid !!!! Still needs to be done"
   ]
  },
  {
   "cell_type": "code",
   "execution_count": 238,
   "metadata": {},
   "outputs": [
    {
     "name": "stdout",
     "output_type": "stream",
     "text": [
      "Current size: (94350, 14)\n",
      "Previous size: (100000, 14)\n"
     ]
    }
   ],
   "source": [
    "df = df.dropna(subset=['Area_sq_ft'])  # Drop rows with NaN in 'Area_sq_ft' column\n",
    "df = df[df['Area_sq_ft'].apply(lambda x: isinstance(x, float) and x > 0)]  # Keep rows where 'Area_sq_ft' is a float and > 0\n",
    "df = outliersBeGone(df, 'Area_sq_ft')  # Remove outliers from 'Area_sq_ft' column\n",
    "dfSize(df)"
   ]
  },
  {
   "cell_type": "markdown",
   "metadata": {},
   "source": [
    "#### Occupants column\n",
    "- Issue the word 'five' it is a `string` not a `int` also multiple times misspelt."
   ]
  },
  {
   "cell_type": "code",
   "execution_count": 239,
   "metadata": {},
   "outputs": [
    {
     "name": "stdout",
     "output_type": "stream",
     "text": [
      "['5', '2', '1', '4', '3', 'five', 'fwve', 'fiwe', 'fpve', 'fave', 'fiva', 'fivg', 'mive', 'ftve', 'wive', 'fivt', 'fiye', 'nive', 'fiae', 'jive', 'live', 'fsve', 'tive', 'fize', 'fivc', 'yive', 'fivs', 'fivd', 'fide', 'flve', 'oive', 'sive', 'iive', 'kive', 'cive', 'qive', 'fihe', 'hive', 'fivn', 'fivl', 'fife', 'fiee', 'fire', 'fqve', 'fbve', 'fije', 'fiie', 'fibe', 'rive', 'fixe', 'fdve', 'ffve', 'fivr', 'fivm', 'fxve', 'fiqe', 'fivx', 'fivq', 'fgve']\n",
      "[5, 2, 1, 4, 3]\n",
      "Current size: (94350, 14)\n",
      "Previous size: (94350, 14)\n"
     ]
    }
   ],
   "source": [
    "df.dropna(subset=['Occupants'], inplace = True)  # Drop rows with NaN in 'Occupants' column\n",
    "\n",
    "printColumnValues(df, 'Occupants')\n",
    "\n",
    "def convertFiveTo5(value):\n",
    "    try:\n",
    "        return int(value)\n",
    "    except ValueError:\n",
    "        return 5\n",
    "\n",
    "df['Occupants'] = df['Occupants'].apply(convertFiveTo5)\n",
    "\n",
    "printColumnValues(df, 'Occupants')\n",
    "dfSize(df)\n",
    "\n"
   ]
  },
  {
   "cell_type": "markdown",
   "metadata": {},
   "source": [
    "#### Heating Type\n",
    "1. lots of words are **misspelt**; use the `length` of the words to figure out what the word is.\n",
    "   - Electric (8)\n",
    "   - Gas (3)\n",
    "   - None (4)\n",
    "2. `NaN` Means they don't have heating so <u>**do not** drop rows<u>"
   ]
  },
  {
   "cell_type": "code",
   "execution_count": 240,
   "metadata": {},
   "outputs": [
    {
     "name": "stdout",
     "output_type": "stream",
     "text": [
      "[nan, 'Gas', 'Electric', 'Electxic', 'plectric', 'Gaz', 'Noxe', 'was', 'Eeectric', 'Elertric', 'Noni', 'Nonz', 'Nonk', 'Elejtric', 'Ngne', 'Ekectric', 'Ezectric', 'ras', 'Gws', 'Nine', 'Electrkc', 'Eluctric', 'Electris', 'Nonu', 'Nfne', 'Electfic', 'jone', 'Gds', 'Gak', 'Nxne', 'Nbne', 'bas', 'Eleczric', 'Elecgric', 'Electrig', 'ylectric', 'Eledtric', 'Electuic', 'Nonj', 'Nonr', 'Gae', 'Gag', 'Gjs', 'none', 'Electrcc', 'ulectric', 'zas', 'Gay', 'Nyne', 'Elecdric', 'Eldctric', 'Esectric', 'Gan', 'Ndne', 'Elrctric', 'Noce', 'has', 'Eleceric', 'Nsne', 'Elehtric', 'vlectric', 'xas', 'eas', 'qas', 'qlectric', 'kas', 'Electrbc', 'Elecsric', 'Nope', 'Electrid', 'Nonn', 'Elmctric', 'Nzne', 'Gad', 'Noge', 'Ejectric', 'Gax', 'Nore', 'Gcs', 'Nose', 'Gat', 'Nony', 'Eleclric', 'Nonp', 'Electrzc', 'Eleptric', 'Gai', 'Eljctric', 'Eleetric', 'Electriw', 'Gal', 'fas', 'Electrxc', 'Ewectric', 'Ges', 'Gab', 'mas', 'Nonm', 'Gah', 'Noze', 'Elhctric', 'tone', 'Node', 'Noke', 'Gis', 'Electrix', 'Electnic', 'Nqne', 'gas', 'qone', 'Nooe', 'llectric', 'Gls', 'Elpctric', 'Elecvric', 'fone', 'cone', 'Electrqc', 'ias', 'Electruc', 'Electoic', 'Noee', 'sas', 'Gaa', 'Gaq', 'Electgic', 'Electsic', 'Nong', 'Noqe', 'Nune', 'Elvctric', 'Elebtric', 'Nonl', 'yas', 'Eleqtric', 'Elecyric', 'Nmne', 'Electrnc', 'Electrsc', 'Gaf', 'Elecmric', 'Nohe', 'Gts', 'Nane', 'zlectric', 'Nwne', 'Electrit', 'nlectric', 'kone', 'Elqctric', 'bone', 'Gav', 'olectric', 'Ecectric', 'Nnne', 'Electrib', 'jlectric', 'Nonc', 'aone', 'Eleftric', 'Noie', 'Eleotric', 'glectric', 'jas', 'Gar', 'Nobe', 'Gaj', 'Njne', 'Electrpc', 'uas', 'wlectric', 'Gap', 'Elecnric', 'Electrii', 'Gbs', 'Ggs', 'Noue', 'Elecxric', 'gone', 'ione', 'Nowe', 'Grs', 'Electrih', 'oone', 'klectric', 'Gac', 'Gus', 'Electrfc', 'Gys', 'Elecpric', 'Elecwric', 'Euectric', 'Ellctric', 'Elechric', 'Noje', 'Nonf', 'das', 'Nofe', 'mone', 'Electrlc', 'Elecjric', 'aas', 'Elyctric', 'Gms', 'Nvne', 'Elegtric', 'Nlne', 'Gns', 'Electrir', 'Nole', 'las', 'zone', 'Gks', 'hlectric', 'wone', 'Elcctric', 'Gzs', 'pone', 'Electrmc', 'Nonb', 'Electaic', 'Gxs', 'Electriy', 'Electlic', 'Elecbric', 'yone', 'Elecqric', 'xone', 'dlectric', 'Nene', 'Gos', 'Eqectric', 'Elentric', 'Elecuric', 'rone', 'Electryc', 'Nond', 'Nono', 'Eltctric', 'Nome', 'Electtic', 'done', 'Elecoric', 'Eleccric', 'Elkctric', 'Electrij', 'Gvs', 'Elecfric', 'Nonx', 'Eiectric', 'nas', 'Elecrric', 'rlectric', 'Ehectric', 'Eloctric', 'Nonw', 'Electrrc', 'Elextric', 'Electhic', 'Gps', 'Electril', 'electric', 'Eaectric', 'eone', 'Elevtric', 'cas', 'Electrim', 'Elemtric', 'oas', 'Elnctric', 'Electiic', 'Nonq', 'Electrio', 'Evectric', 'clectric', 'Eleytric', 'Gam', 'Eleitric', 'Elsctric', 'Gss', 'tas', 'Electcic', 'Efectric', 'Electriu', 'Electyic', 'Epectric', 'pas', 'Electpic', 'Noae', 'Gqs', 'ilectric', 'Nona', 'Nhne', 'sone', 'Eleztric', 'Elfctric', 'Ncne', 'Erectric', 'Eleatric', 'Nons', 'vas', 'Gao', 'vone', 'Nove', 'Elxctric', 'Electbic', 'Elgctric', 'blectric', 'uone', 'Enectric', 'Electdic', 'Eoectric', 'Ntne', 'Elzctric', 'Etectric', 'hone', 'Nont', 'Nonv', 'Note', 'Electriq', 'Electroc', 'slectric', 'Electrin', 'Nrne', 'mlectric', 'Gfs', 'Electrjc', 'Elettric', 'Elestric', 'Elwctric', 'Electvic', 'Emectric', 'Eleckric', 'Gau', 'Electkic', 'Eyectric', 'Electrgc', 'lone', 'Electqic', 'Electrhc', 'Npne', 'Electrif', 'Nonh', 'Elactric', 'Ghs', 'Electrwc', 'Electrac', 'Electrip', 'Electzic', 'Elektric', 'Electwic', 'Electria', 'Gaw', 'Elictric', 'Electrvc', 'Exectric', 'Electrie', 'Elbctric', 'Edectric', 'Noye', 'Electrik', 'flectric', 'Nkne', 'Egectric', 'Electriv', 'Electjic', 'xlectric', 'Electmic', 'Eleciric', 'Elecaric', 'Electrec', 'tlectric', 'Electrdc', 'Electriz', 'alectric', 'Eleutric', 'Elewtric', 'Electrtc', 'Ebectric', 'Eleltric']\n",
      "Current size: (94350, 14)\n",
      "Previous size: (94350, 14)\n",
      "Current size: (61087, 14)\n",
      "Previous size: (94350, 14)\n",
      "['Gas', 'Electric', 'None']\n",
      "Current size: (61087, 14)\n",
      "Previous size: (61087, 14)\n"
     ]
    }
   ],
   "source": [
    "printColumnValues(df, 'Heating_Type')\n",
    "\n",
    "dfSize(df)\n",
    "df.dropna(subset=['Heating_Type'], inplace = True)  # Drop rows with NaN in 'Heating_Type' column\n",
    "# df = df.fillna({'Heating_Type': 'None'})\n",
    "\n",
    "def correctHeatingType(value):\n",
    "    if len(value) == 8:\n",
    "        return 'Electric'\n",
    "    elif len(value) == 4:\n",
    "        return 'None'\n",
    "    elif len(value) == 3:\n",
    "        return 'Gas'\n",
    "    else:\n",
    "        ValueError('Heating type not recognized')\n",
    "\n",
    "dfSize(df)\n",
    "\n",
    "df['Heating_Type'] = df['Heating_Type'].apply(correctHeatingType)\n",
    "\n",
    "printColumnValues(df, 'Heating_Type')\n",
    "dfSize(df)"
   ]
  },
  {
   "cell_type": "markdown",
   "metadata": {},
   "source": [
    "### Age of building\n",
    "1. remove values `>0` `#1 \n",
    "2. remove `NaN` values"
   ]
  },
  {
   "cell_type": "code",
   "execution_count": 241,
   "metadata": {},
   "outputs": [
    {
     "name": "stdout",
     "output_type": "stream",
     "text": [
      "[0, 36, 33, 23, 26, 15, 9, 8, 46, 18, -5, 40, -1, 21, 32, 29, 12, 24, 13, 20, 30, 16, 19, 7, 45, 43, 42, 10, 22, 14, 34, 28, 11, 27, 6, -2, 35, 2, 4, 25, 38, 31, 17, 5, 1, 39, 56, 37, 3, 47, 41, -3, -4, -12, -13, 48, -10, 44, -11, -6, 52, -7, -9, -8, 49, 50, 54, -14, -15, 55, 51, 53, -16, -18, 57, -21, 59, -19, 66, -17]\n",
      "Current size: (61087, 14)\n",
      "Previous size: (61087, 14)\n",
      "[0, 36, 33, 23, 26, 15, 9, 8, 46, 18, 40, 21, 32, 29, 12, 24, 13, 20, 30, 16, 19, 7, 45, 43, 42, 10, 22, 14, 34, 28, 11, 27, 6, 35, 2, 4, 25, 38, 31, 17, 5, 1, 39, 56, 37, 3, 47, 41, 48, 44, 52, 49, 50, 54, 55, 51, 53, 57, 59, 66]\n",
      "Current size: (59974, 14)\n",
      "Previous size: (61087, 14)\n"
     ]
    }
   ],
   "source": [
    "printColumnValues(df, 'Age_of_Building')\n",
    "dfSize(df)\n",
    "\n",
    "df.dropna(subset=['Age_of_Building'], inplace = True)  # Drop rows with NaN in 'Occupants' column\n",
    "df = df[df['Age_of_Building'].apply(lambda x: isinstance(x, int) and x >= 0)] #! TODO: can a building be 0 years old?\n",
    "\n",
    "printColumnValues(df, 'Age_of_Building')\n",
    "dfSize(df)"
   ]
  },
  {
   "cell_type": "markdown",
   "metadata": {},
   "source": [
    "### Insulation Quality\n",
    "1. lots of words are **misspelt**; use the `length` of the words to figure out what the word is.\n",
    "   - Excellent (9)\n",
    "   - Average (7)\n",
    "   - Good (4)\n",
    "   - Poor (4)"
   ]
  },
  {
   "cell_type": "code",
   "execution_count": 242,
   "metadata": {},
   "outputs": [],
   "source": [
    "def levenshteinDistance(s1, s2): #? Remove this or use for months\n",
    "    if len(s1) < len(s2):\n",
    "        return levenshteinDistance(s2, s1)\n",
    "\n",
    "    if len(s2) == 0:\n",
    "        return len(s1)\n",
    "\n",
    "    previous_row = range(len(s2) + 1)\n",
    "    for i, c1 in enumerate(s1):\n",
    "        current_row = [i + 1]\n",
    "        for j, c2 in enumerate(s2):\n",
    "            insertions = previous_row[j + 1] + 1\n",
    "            deletions = current_row[j] + 1\n",
    "            substitutions = previous_row[j] + (c1 != c2)\n",
    "            current_row.append(min(insertions, deletions, substitutions))\n",
    "        previous_row = current_row\n",
    "    \n",
    "    return previous_row[-1]"
   ]
  },
  {
   "cell_type": "code",
   "execution_count": 243,
   "metadata": {},
   "outputs": [
    {
     "name": "stdout",
     "output_type": "stream",
     "text": [
      "['Excellent', 'Poor', 'Good', 'Average', 'Goou', 'Exqellent', 'Gogd', 'Avenage', 'Excellenq', 'Gsod', 'Goqd', 'Poow', 'Poer', 'Gohd', 'Avqrage', 'Awerage', 'eoor', 'Axerage', 'Avtrage', 'Ggod', 'Exceblent', 'Exceflent', 'Akerage', 'Gosd', 'gverage', 'Averagy', 'Exckllent', 'Pooq', 'Avgrage', 'Etcellent', 'Gook', 'Averagz', 'Poox', 'Avcrage', 'Goor', 'Excelltnt', 'pood', 'Exjellent', 'Gocd', 'Exzellent', 'Gcod', 'kood', 'Avirage', 'Averyge', 'Edcellent', 'Plor', 'Ghod', 'boor', 'Agerage', 'qoor', 'Pzor', 'Avejage', 'Excellznt', 'Avorage', 'Goot', 'Exceslent', 'Averago', 'qverage', 'Excelrent', 'Goyd', 'koor', 'Geod', 'coor', 'Excallent', 'uoor', 'Exoellent', 'Gvod', 'Avbrage', 'vxcellent', 'Pozr', 'Exyellent', 'Glod', 'Excellwnt', 'Pooc', 'Gond', 'Excelcent', 'Gooi', 'aood', 'Eacellent', 'wxcellent', 'Gjod', 'Excenlent', 'Phor', 'yood', 'Averace', 'Averagp', 'Pood', 'Pmor', 'Aveaage', 'Gfod', 'Godd', 'Gooe', 'wood', 'Excellenv', 'Excevlent', 'Averhge', 'Gpod', 'Gozd', 'Goov', 'Gooh', 'Posr', 'Aberage', 'Goob', 'Excyllent', 'Excellfnt', 'Exctllent', 'Goow', 'eood', 'Averane', 'zxcellent', 'nxcellent', 'goor', 'Pnor', 'Excellhnt', 'Gooz', 'Averrge', 'Avwrage', 'Averkge', 'lxcellent', 'Averagc', 'Powr', 'Poob', 'Goog', 'xoor', 'Excellest', 'Excellbnt', 'gxcellent', 'Avdrage', 'xood', 'ixcellent', 'Excellqnt', 'Paor', 'Excrllent', 'kverage', 'Govd', 'Pwor', 'zood', 'qood', 'Gool', 'Avervge', 'Excelleny', 'Excelleht', 'Amerage', 'Avnrage', 'Pcor', 'lood', 'Excelledt', 'Avyrage', 'Guod', 'mood', 'yverage', 'Goon', 'Averagw', 'Averaae', 'Excezlent', 'Excelaent', 'door', 'uood', 'Gobd', 'Gnod', 'Goox', 'Pour', 'Gord', 'Excellenp', 'Poom', 'Gooq', 'Excelqent', 'Puor', 'Pocr', 'Averuge', 'Averpge', 'Avecage', 'Averare', 'Excellynt', 'Pfor', 'Excwllent', 'Escellent', 'Gyod', 'Averqge', 'Averape', 'Poog', 'Gbod', 'Exceljent', 'Averlge', 'Avepage', 'Excellant', 'Goom', 'Excellewt', 'Pxor', 'Avfrage', 'Aveyage', 'Exkellent', 'Excelvent', 'Excullent', 'Excollent', 'tverage', 'Pokr', 'rood', 'rxcellent', 'voor', 'Excellenm', 'Excellemt', 'Pjor', 'Aeerage', 'Pooa', 'Gwod', 'Averaqe', 'Pvor', 'Goid', 'cood', 'Exrellent', 'Gooc', 'Ppor', 'moor', 'Averaue', 'Excellenh', 'Pgor', 'jxcellent', 'Excehlent', 'Porr', 'Averagq', 'Exceolent', 'Excellenw', 'Excsllent', 'Pooo', 'Excellenc', 'Pooh', 'Pogr', 'xxcellent', 'Averahe', 'dood', 'Eucellent', 'Avegage', 'sood', 'Peor', 'Excellezt', 'Epcellent', 'txcellent', 'toor', 'Averagh', 'Excellcnt', 'Poou', 'Exceclent', 'Potr', 'Averaye', 'Averaee', 'Psor', 'Avvrage', 'Poar', 'Goud', 'mxcellent', 'Excellenj', 'Excbllent', 'bood', 'Goad', 'Ptor', 'Pbor', 'Averagd', 'Averoge', 'Expellent', 'Excpllent', 'Averave', 'Avkrage', 'cverage', 'Averagf', 'Excelnent', 'Pkor', 'vood', 'Exgellent', 'good', 'Averzge', 'Excellext', 'Azerage', 'Excjllent', 'Goof', 'Gtod', 'Grod', 'woor', 'iood', 'Averxge', 'Emcellent', 'aoor', 'yoor', 'Excexlent', 'Polr', 'Avsrage', 'Gkod', 'Avergge', 'Exnellent', 'Excellejt', 'loor', 'Gaod', 'Povr', 'Exceylent', 'Pook', 'Poqr', 'Averawe', 'Averagk', 'Gowd', 'Excelleng', 'Excelyent', 'Avernge', 'everage', 'Pqor', 'average', 'Aperage', 'Exaellent', 'Excelkent', 'noor', 'Excellsnt', 'Avermge', 'Averwge', 'Poyr', 'Averagb', 'Excelzent', 'Gooa', 'lverage', 'Excelxent', 'Ejcellent', 'Avurage', 'soor', 'Ayerage', 'Gooj', 'Eocellent', 'Avjrage', 'Excealent', 'Pool', 'Aferage', 'Excellett', 'Averagr', 'Excelhent', 'foor', 'ioor', 'Avzrage', 'Excellpnt', 'Pior', 'Excelbent', 'Excellnnt', 'Exiellent', 'Excellept', 'Poon', 'Pooz', 'oood', 'Avarage', 'Ponr', 'Gmod', 'Poot', 'vverage', 'Averagx', 'uxcellent', 'Excelleno', 'uverage', 'Excellegt', 'Podr', 'Pofr', 'Aierage', 'Averdge', 'Averaje', 'Poov', 'Exceleent', 'ooor', 'Gqod', 'Gzod', 'Averaoe', 'Ehcellent', 'Exvellent', 'Excelleit', 'Exdellent', 'Excedlent', 'Excxllent', 'Avrrage', 'hxcellent', 'Eecellent', 'Goed', 'Avprage', 'Exczllent', 'hoor', 'Exccllent', 'Pooe', 'Excelleot', 'Aveoage', 'Gxod', 'food', 'Ekcellent', 'Aveuage', 'joor', 'Pdor', 'Gokd', 'Excqllent', 'Excelwent', 'tood', 'Averaie', 'Excellens', 'Giod', 'jood', 'Avekage', 'Excelleet', 'rverage', 'excellent', 'iverage', 'Avercge', 'Averjge', 'Goop', 'Excellene', 'sverage', 'hood', 'Pooj', 'Averade', 'Excellrnt', 'Gotd', 'Exlellent', 'dverage', 'sxcellent', 'yxcellent', 'Excelleyt', 'Extellent', 'bverage', 'Exceklent', 'Aoerage', 'Aaerage', 'Encellent', 'Excellvnt', 'Avebage', 'Avefage', 'Avxrage', 'Avlrage', 'Excelpent', 'Pyor', 'Exceloent', 'Gofd', 'Aversge', 'Excellont', 'Gomd', 'Popr', 'Avesage', 'Avhrage', 'Excmllent', 'Pooy', 'Averake', 'Averafe', 'Eicellent', 'poor', 'Excellenk', 'Excvllent', 'Exceilent', 'Gdod', 'Avertge', 'Excerlent', 'Averagn', 'axcellent', 'Alerage', 'Excellint', 'kxcellent', 'mverage', 'fverage', 'zverage', 'Excetlent', 'Pomr', 'Excemlent', 'Excfllent', 'Eycellent', 'overage', 'Poir', 'Averaze', 'Gooy', 'Avetage', 'Excellenz', 'Excellunt', 'Avelage', 'Averame', 'Pooi', 'Averagg', 'Exfellent', 'Averate', 'Aderage', 'Poof', 'Aveiage', 'fxcellent', 'Exxellent', 'Exceglent', 'Eqcellent', 'Excdllent', 'pverage', 'Acerage', 'Goos', 'Exceplent', 'Averagj', 'Exsellent', 'Excellert', 'Excgllent', 'Avehage', 'nood', 'Averagm', 'zoor', 'oxcellent', 'Poxr', 'Efcellent', 'Excellknt', 'Gopd', 'Aterage', 'Poop', 'Averaxe', 'Pror', 'dxcellent', 'Exceldent', 'wverage', 'Exclllent', 'Avmrage', 'nverage', 'Auerage', 'Exhellent', 'Gooo', 'Excellenf', 'Exeellent', 'Evcellent', 'Pohr', 'Averige', 'Averaga', 'Poos', 'Exceqlent', 'qxcellent', 'Excelfent', 'Averags', 'Averagv', 'pxcellent', 'Arerage', 'Averbge', 'Excelient', 'Ercellent', 'Averagt', 'Exbellent', 'Excelllnt', 'Excellmnt', 'Elcellent', 'Ewcellent', 'Averagi', 'Excellenn', 'Excellgnt', 'Exceulent', 'Excellenl', 'Excellenb', 'Pobr', 'Averale', 'Ajerage', 'Pojr', 'Ebcellent', 'Excelleat', 'Exuellent', 'Excellxnt', 'Averase', 'Exceelent', 'Excellenu', 'Avexage', 'Gold', 'Excellekt', 'xverage', 'bxcellent', 'roor', 'Excellelt', 'Averabe', 'Excillent', 'Excelment', 'Egcellent', 'Exmellent', 'Exceluent', 'Avewage', 'Excellect', 'Eccellent', 'Averagu', 'Anerage', 'Aqerage', 'Averagl', 'Exceltent', 'Excellenr', 'Aveeage', 'Aherage', 'jverage', 'Ezcellent', 'Excelleqt', 'Excelldnt', 'Excewlent', 'Excelleft', 'Excelleut', 'Avemage', 'Excejlent', 'Avezage', 'hverage', 'Exchllent', 'Excellenx', 'Excelljnt', 'Excelsent', 'Excellend', 'Excellebt', 'Excelleni', 'Exwellent', 'Avedage', 'Goxd', 'Aveqage', 'Excelgent']\n",
      "Current size: (59974, 14)\n",
      "Previous size: (59974, 14)\n",
      "[]\n",
      "['Excellent', 'Poor', 'Good', 'Average']\n",
      "Current size: (59974, 14)\n",
      "Previous size: (59974, 14)\n"
     ]
    }
   ],
   "source": [
    "printColumnValues(df, 'Insulation_Quality')\n",
    "dfSize(df)\n",
    "\n",
    "df.dropna(subset=['Insulation_Quality'], inplace = True)  # Drop rows with NaN in 'Insulation_Quality' column\n",
    "\n",
    "funny_values =[]\n",
    "\n",
    "def correctRating(value):\n",
    "    if len(value) == 9:\n",
    "        return 'Excellent'\n",
    "    elif len(value) == 7:\n",
    "        return 'Average'\n",
    "    elif value[:1] == 'P':\n",
    "        return 'Poor'\n",
    "    elif value[:1] == 'G':\n",
    "        return 'Good'\n",
    "    elif value[-2:] == 'or':\n",
    "        return 'Poor'\n",
    "    elif value[-2:] == 'od':\n",
    "        return 'Good'\n",
    "    else:\n",
    "        funny_values.append(value)\n",
    "        word_list = ['Poor', 'Good']\n",
    "        return min(word_list, key=lambda x: levenshteinDistance(value, x)) #? Big Sad; Couldn't use epic function\n",
    "    \n",
    "df['Insulation_Quality'] = df['Insulation_Quality'].apply(correctRating)\n",
    "print(funny_values)\n",
    "\n",
    "printColumnValues(df, 'Insulation_Quality')\n",
    "dfSize(df)\n"
   ]
  },
  {
   "cell_type": "markdown",
   "metadata": {},
   "source": [
    "### Daily Average Consumption kWh\n",
    "- Drop `NaN` rows\n",
    "- Anything below equal or below `zero` removed and needs to be `float`\n",
    "- ***fix*** Value may be not be `float` but valid"
   ]
  },
  {
   "cell_type": "code",
   "execution_count": 244,
   "metadata": {},
   "outputs": [
    {
     "name": "stdout",
     "output_type": "stream",
     "text": [
      "Current size: (59597, 14)\n",
      "Previous size: (59974, 14)\n",
      "<class 'pandas.core.frame.DataFrame'>\n",
      "Index: 59597 entries, 5 to 99997\n",
      "Data columns (total 14 columns):\n",
      " #   Column                         Non-Null Count  Dtype  \n",
      "---  ------                         --------------  -----  \n",
      " 0   Area_sq_ft                     59597 non-null  float64\n",
      " 1   Occupants                      59597 non-null  int64  \n",
      " 2   Heating_Type                   59597 non-null  object \n",
      " 3   Age_of_Building                59597 non-null  int64  \n",
      " 4   Insulation_Quality             59597 non-null  object \n",
      " 5   Daily_Average_Consumption_kWh  59597 non-null  float64\n",
      " 6   Season                         59597 non-null  object \n",
      " 7   Energy_Efficiency_Rating       59597 non-null  int64  \n",
      " 8   Tariff_Type                    59597 non-null  object \n",
      " 9   Bill_Amount                    56653 non-null  float64\n",
      " 10  Renewable_Energy_Installed     59597 non-null  object \n",
      " 11  Temperature_Average            56587 non-null  float64\n",
      " 12  Power_Outages                  59597 non-null  int64  \n",
      " 13  Monthly_Consumption_kWh        59597 non-null  float64\n",
      "dtypes: float64(5), int64(4), object(5)\n",
      "memory usage: 6.8+ MB\n"
     ]
    }
   ],
   "source": [
    "df.dropna(subset=['Daily_Average_Consumption_kWh'], inplace = True)  # Drop rows with NaN in 'Daily_Average_Consumption_kWh' column\n",
    "df = df[df['Daily_Average_Consumption_kWh'].apply(lambda x: isinstance(x, float) and x > 0)] #! TODO: Values may not be float but still valid?\n",
    "df = outliersBeGone(df, 'Daily_Average_Consumption_kWh')  # Remove outliers from 'Daily_Average_Consumption_kWh' column\n",
    "dfSize(df)\n",
    "df.info(verbose=True)"
   ]
  },
  {
   "cell_type": "markdown",
   "metadata": {},
   "source": [
    "### Season"
   ]
  },
  {
   "cell_type": "code",
   "execution_count": 245,
   "metadata": {},
   "outputs": [
    {
     "name": "stdout",
     "output_type": "stream",
     "text": [
      "['Summer', 'Autumn', 'Winter', 'Spring']\n",
      "Current size: (59597, 14)\n",
      "Previous size: (59597, 14)\n",
      "Current size: (59597, 14)\n",
      "Previous size: (59597, 14)\n"
     ]
    }
   ],
   "source": [
    "printColumnValues(df, 'Season')\n",
    "dfSize(df)\n",
    "\n",
    "df.dropna(subset=['Season'], inplace = True)  # Drop rows with NaN in 'Season' column\n",
    "df['Energy_Efficiency_Rating'] = df['Energy_Efficiency_Rating'].astype(int)\n",
    "dfSize(df)"
   ]
  },
  {
   "cell_type": "markdown",
   "metadata": {},
   "source": [
    "### Energy Efficiency Rating\n"
   ]
  },
  {
   "cell_type": "code",
   "execution_count": 246,
   "metadata": {},
   "outputs": [
    {
     "name": "stdout",
     "output_type": "stream",
     "text": [
      "[1, 5, 6, 4, 8, 10, 2, 3, 9, 7]\n",
      "Current size: (59597, 14)\n",
      "Previous size: (59597, 14)\n",
      "Current size: (59597, 14)\n",
      "Previous size: (59597, 14)\n"
     ]
    }
   ],
   "source": [
    "printColumnValues(df, 'Energy_Efficiency_Rating')\n",
    "dfSize(df)\n",
    "\n",
    "df.dropna(subset=['Energy_Efficiency_Rating'], inplace = True)  # Drop rows with NaN in 'Season' column\n",
    "df['Energy_Efficiency_Rating'] = df['Energy_Efficiency_Rating'].astype(int)\n",
    "dfSize(df)"
   ]
  },
  {
   "cell_type": "markdown",
   "metadata": {},
   "source": [
    "### Tariff_Type"
   ]
  },
  {
   "cell_type": "code",
   "execution_count": 247,
   "metadata": {},
   "outputs": [
    {
     "name": "stdout",
     "output_type": "stream",
     "text": [
      "['Fixed', 'Time-of-Use', 'hariable', 'Variable', 'Ffxed', 'Tise-of-Use', 'mime-of-Use', 'Time-ofxUse', 'Fixkd', 'Timj-of-Use', 'Vaxiable', 'Timu-of-Use', 'Variabla', 'Fieed', 'Variabln', 'lixed', 'Varitble', 'Variasle', 'pixed', 'Time-rf-Use', 'aime-of-Use', 'Vadiable', 'Fixud', 'Vahiable', 'Fixek', 'cixed', 'qariable', 'yixed', 'Varieble', 'Time-nf-Use', 'iime-of-Use', 'Time-of-use', 'Time-offUse', 'Figed', 'Fixdd', 'Time-of-Une', 'Variablj', 'wime-of-Use', 'Timv-of-Use', 'Fyxed', 'Variadle', 'dixed', 'eixed', 'Fixeu', 'Variacle', 'Time-yf-Use', 'cime-of-Use', 'Fixer', 'Fiued', 'Vaaiable', 'Fixwd', 'Variablb', 'Fixbd', 'aixed', 'Fined', 'wixed', 'Time-ofaUse', 'Time-ofdUse', 'Varixble', 'Variablx', 'Varidble', 'Time-ofhUse', 'Time-ofnUse', 'Fixeg', 'Variabli', 'Varilble', 'Tiie-of-Use', 'Variavle', 'gariable', 'Fired', 'Varcable', 'Voriable', 'vixed', 'Time-tf-Use', 'Variabne', 'Tiae-of-Use', 'qixed', 'mixed', 'Time-ofbUse', 'Vqriable', 'Variabqe', 'Variaule', 'Varfable', 'Varnable', 'Time-of-Ute', 'Varpable', 'fixed', 'Vgriable', 'xixed', 'Vsriable', 'Fixez', 'Fihed', 'Fixeo', 'Time-on-Use', 'yime-of-Use', 'Fixew', 'Fixev', 'Fdxed', 'Variablu', 'Tide-of-Use', 'iixed', 'Time-of-Upe', 'Fixee', 'Vapiable', 'hixed', 'Fixgd', 'uime-of-Use', 'jariable', 'Fioed', 'Varkable', 'Varioble', 'Vardable', 'mariable', 'Variablt', 'Variwble', 'dime-of-Use', 'vime-of-Use', 'Vnriable', 'Fixad', 'Varijble', 'Variabye', 'Time-of-jse', 'Fiaed', 'Fixld', 'Fvxed', 'Time-of-Usl', 'Time-ob-Use', 'Variabxe', 'Time-ok-Use', 'Fgxed', 'Time-of-Usk', 'Txme-of-Use', 'Variafle', 'Time-of-bse', 'eariable', 'variable', 'Vrriable', 'Variablw', 'Varuable', 'Time-of-Usj', 'Veriable', 'Fibed', 'Vvriable', 'Vjriable', 'Varisble', 'Variabwe', 'Fixej', 'Variarle', 'Time-of-Ude', 'Timeoof-Use', 'Variaele', 'Fixpd', 'Fixfd', 'Time-ofpUse', 'Vaqiable', 'Fhxed', 'Timelof-Use', 'Time-of-Uve', 'Timeaof-Use', 'Fixet', 'Vagiable', 'Fiked', 'Time-of-gse', 'Fzxed', 'Timecof-Use', 'Time-ox-Use', 'yariable', 'Timerof-Use', 'oime-of-Use', 'Fixea', 'Variabme', 'Varjable', 'Vmriable', 'Fexed', 'Varimble', 'Varihble', 'Variabls', 'Time-ov-Use', 'Fmxed', 'Variible', 'Fixem', 'Time-od-Use', 'Variablp', 'Timejof-Use', 'Flxed', 'Fixvd', 'Time-om-Use', 'Fsxed', 'lariable', 'Vajiable', 'Timb-of-Use', 'Vhriable', 'eime-of-Use', 'Varwable', 'Fixei', 'Time-ofjUse', 'Time-of-Usm', 'Variabhe', 'Time-ofwUse', 'Time-af-Use', 'Varicble', 'Varqable', 'Varivble', 'Fixzd', 'Ftxed', 'Timexof-Use', 'Varialle', 'Time-of-Usp', 'Fixey', 'Varinble', 'Vauiable', 'Vlriable', 'Varipble', 'Variablc', 'Fixrd', 'Vaiiable', 'kixed', 'Tixe-of-Use', 'Fixmd', 'Timeuof-Use', 'Time-ol-Use', 'Variayle', 'Timewof-Use', 'gixed', 'Timepof-Use', 'Fixeh', 'Variabfe', 'uixed', 'Variabue', 'Tike-of-Use', 'Tije-of-Use', 'Time-mf-Use', 'Variabje', 'Timk-of-Use', 'oariable', 'Varigble', 'Fixec', 'Tibe-of-Use', 'zixed', 'Variawle', 'Vwriable', 'Time-of-zse', 'Time-zf-Use', 'Fived', 'Fixen', 'Fixel', 'Varyable', 'Varizble', 'Time-of-Uie', 'uariable', 'Time-of-Uee', 'Time-oj-Use', 'Variatle', 'Vamiable', 'Time-of-vse', 'Timedof-Use', 'Vtriable', 'Variabae', 'Tiee-of-Use', 'zariable', 'Fijed', 'Vayiable', 'Fpxed', 'Time-of-Uce', 'Variabze', 'Fqxed', 'Fjxed', 'Varlable', 'Tbme-of-Use', 'Varaable', 'Timc-of-Use', 'tariable', 'bime-of-Use', 'jixed', 'Time-of-Uqe', 'Fixjd', 'Vaziable', 'Variamle', 'Time-ofuUse', 'sixed', 'Variablg', 'Timz-of-Use', 'Fixod', 'Time-os-Use', 'Valiable', 'Variabee', 'Variabll', 'nime-of-Use', 'Vdriable', 'Fixnd', 'Tice-of-Use', 'Variabld', 'Tile-of-Use', 'Time-hf-Use', 'qime-of-Use', 'Variabpe', 'Vaeiable', 'Time-of-Usy', 'Timezof-Use', 'jime-of-Use', 'Varbable', 'Variablf', 'Vasiable', 'nixed', 'Time-ofcUse', 'Fixcd', 'bariable', 'Vpriable', 'Timefof-Use', 'Vbriable', 'Fuxed', 'Timenof-Use', 'Varirble', 'Tqme-of-Use', 'Variuble', 'Varoable', 'Variabbe', 'Foxed', 'Tize-of-Use', 'Time-of-Ufe', 'Timn-of-Use', 'Vaciable', 'Time-qf-Use', 'Time-of-Uss', 'Time-of-Usq', 'Variaxle', 'Fixep', 'Faxed', 'Thme-of-Use', 'Timg-of-Use', 'Fiwed', 'Timr-of-Use', 'Variablm', 'Tima-of-Use', 'Time-of-Uje', 'Time-ofzUse', 'Fbxed', 'Tame-of-Use', 'Fixef', 'Fiped', 'Variajle', 'Time-ofiUse', 'Time-of-Usa', 'Time-of-Usw', 'Variazle', 'Time-of-Usx', 'Fided', 'Fixeq', 'Fwxed', 'Time-of-mse', 'Timegof-Use', 'Vzriable', 'Time-of-pse', 'Time-ofmUse', 'Fised', 'Varikble', 'Tihe-of-Use', 'fime-of-Use', 'Time-ofvUse', 'Vatiable', 'Time-oz-Use', 'Fiied', 'Time-jf-Use', 'Time-oq-Use', 'Time-ot-Use', 'Time-of-hse', 'Time-ou-Use', 'Time-of-Usc', 'Tims-of-Use', 'Fixid', 'Time-cf-Use', 'Tmme-of-Use', 'Time-of-Usb', 'Variabre', 'Time-uf-Use', 'Timetof-Use', 'Variabde', 'Variakle', 'Fimed', 'Fixqd', 'Fized', 'pariable', 'bixed', 'Variablq', 'Tiue-of-Use', 'Tsme-of-Use', 'Time-kf-Use', 'Variablo', 'rime-of-Use', 'Timesof-Use', 'Tine-of-Use', 'Time-of-Usv', 'fariable', 'wariable', 'cariable', 'aariable', 'Time-gf-Use', 'Fixhd', 'Time-bf-Use', 'Variabve', 'Time-of-Ube', 'Variaole', 'Time-oo-Use', 'Time-of-Usf', 'Variabge', 'Variqble', 'Filed', 'Fixeb', 'Time-of-cse', 'Time-of-ose', 'Vartable', 'Tiye-of-Use', 'Teme-of-Use', 'Varxable', 'Variaqle', 'Time-of-Uye', 'Vyriable', 'Variablk', 'Vaniable', 'Time-of-rse', 'Time-oflUse', 'Fifed', 'Timeiof-Use', 'Time-of-Uhe', 'Time-xf-Use', 'Time-oh-Use', 'Timi-of-Use', 'Ttme-of-Use', 'zime-of-Use', 'sariable', 'Variablr', 'Tioe-of-Use', 'Time-of-Usg', 'lime-of-Use', 'Tvme-of-Use', 'iariable', 'Time-of-kse', 'Tite-of-Use', 'Time-of-Ure', 'Timevof-Use', 'Time-of-lse', 'Fnxed', 'Time-op-Use', 'Vargable', 'Varmable', 'Tdme-of-Use', 'Variablz', 'Timd-of-Use', 'Time-ofkUse', 'Twme-of-Use', 'Time-of-Usr', 'Time-ofoUse', 'Tzme-of-Use', 'Time-ofgUse', 'rixed', 'Time-of-Uae', 'Time-of-Uze', 'rariable', 'Time-of-Uge', 'Vaviable', 'nariable', 'Timeqof-Use', 'Time-of-Usd', 'Ficed', 'Tnme-of-Use', 'Variyble', 'oixed', 'Vafiable', 'Vxriable', 'Timeeof-Use', 'Time-ofrUse', 'Time-ofeUse', 'Vaoiable', 'Timf-of-Use', 'Time-ofqUse', 'Variabte', 'Time-of-xse', 'Timl-of-Use', 'xariable', 'Time-of-Ush', 'Vareable', 'Time-if-Use', 'Timw-of-Use', 'Fixsd', 'Fxxed', 'Fixes', 'Time-oa-Use', 'Tome-of-Use', 'Time-ow-Use', 'time-of-Use', 'Time-ef-Use', 'Time-oftUse', 'Time-of-yse', 'Variabke', 'Timekof-Use', 'Time-og-Use', 'Fcxed', 'hime-of-Use', 'Variabce', 'Vfriable', 'Time-oy-Use', 'Timq-of-Use', 'Time-of-sse', 'Timo-of-Use', 'Time-of-Usi', 'Tive-of-Use', 'Trme-of-Use', 'tixed', 'Time-of-Uwe', 'Tgme-of-Use', 'kime-of-Use', 'Fited', 'Timt-of-Use', 'Time-of-Usz', 'kariable', 'Tiwe-of-Use', 'Time-oc-Use', 'Time-wf-Use', 'Varzable', 'Variablv', 'gime-of-Use', 'Variaale', 'Vcriable', 'Fiqed', 'Time-pf-Use', 'Time-or-Use', 'Fixtd', 'Variably', 'Fiyed', 'Timy-of-Use', 'Tjme-of-Use', 'Time-of-Uso', 'Fixex', 'Varhable', 'Variaile', 'Tpme-of-Use', 'Time-df-Use', 'Varsable', 'Vkriable', 'Time-oe-Use', 'Fixyd', 'xime-of-Use', 'Time-of-tse', 'Variablh', 'Vabiable', 'Time-of-Ust', 'Time-of-Ume', 'Time-of-dse', 'Tyme-of-Use', 'Time-of-Ule', 'Timebof-Use', 'Variabse', 'Time-of-Usn', 'Time-of-ise', 'Tfme-of-Use', 'Time-of-qse', 'Time-of-fse', 'dariable', 'Time-of-Uke', 'Fixxd', 'Variaboe', 'Time-ofyUse', 'Varibble', 'Time-of-nse', 'Timm-of-Use', 'Tkme-of-Use', 'Tcme-of-Use', 'Tife-of-Use', 'Vawiable', 'Timemof-Use', 'Varianle', 'Time-vf-Use', 'Timp-of-Use', 'Timehof-Use', 'Tipe-of-Use', 'Frxed', 'Timx-of-Use', 'Varifble', 'Variabie', 'Tlme-of-Use', 'Fkxed', 'Tire-of-Use', 'Tume-of-Use', 'Variaple', 'Varvable', 'Time-of-Usu', 'Time-sf-Use', 'Time-ofsUse', 'Variagle', 'Vuriable', 'Varrable', 'Time-of-ase', 'Time-of-wse', 'Time-ff-Use', 'Time-oi-Use', 'Tiqe-of-Use', 'Timh-of-Use', 'sime-of-Use', 'Time-of-Uxe']\n",
      "['Fixed', 'Time-of-Use', 'Variable']\n",
      "Current size: (59597, 14)\n",
      "Previous size: (59597, 14)\n"
     ]
    }
   ],
   "source": [
    "printColumnValues(df, 'Tariff_Type')\n",
    "\n",
    "def correctRating(value):\n",
    "    if len(value) == 5:\n",
    "        return 'Fixed'\n",
    "    elif len(value) == 11:\n",
    "        return 'Time-of-Use'\n",
    "    elif len(value) == 8:\n",
    "        return 'Variable'\n",
    "\n",
    "df['Tariff_Type'] = df['Tariff_Type'].apply(correctRating)\n",
    "\n",
    "df.dropna(subset=['Tariff_Type'], inplace = True)  # Drop rows with NaN in 'Tariff_Type' column\n",
    "printColumnValues(df, 'Tariff_Type')\n",
    "dfSize(df)"
   ]
  },
  {
   "cell_type": "markdown",
   "metadata": {},
   "source": [
    "### Bill_Amount"
   ]
  },
  {
   "cell_type": "code",
   "execution_count": 248,
   "metadata": {},
   "outputs": [
    {
     "name": "stdout",
     "output_type": "stream",
     "text": [
      "Current size: (56207, 14)\n",
      "Previous size: (59597, 14)\n"
     ]
    }
   ],
   "source": [
    "df.dropna(subset=['Bill_Amount'], inplace = True)  # Drop rows with NaN in 'Daily_Average_Consumption_kWh' column\n",
    "df = df[df['Bill_Amount'].apply(lambda x: isinstance(x, float) and x > 0)] #! TODO: Values may not be float but still valid?\n",
    "df = outliersBeGone(df, 'Bill_Amount')  # Remove outliers from 'Daily_Average_Consumption_kWh' column\n",
    "dfSize(df)\n"
   ]
  },
  {
   "cell_type": "code",
   "execution_count": 249,
   "metadata": {},
   "outputs": [
    {
     "name": "stdout",
     "output_type": "stream",
     "text": [
      "['No', 'Yes']\n",
      "Current size: (56207, 14)\n",
      "Previous size: (56207, 14)\n"
     ]
    }
   ],
   "source": [
    "printColumnValues(df, 'Renewable_Energy_Installed')\n",
    "dfSize(df)"
   ]
  },
  {
   "cell_type": "code",
   "execution_count": 250,
   "metadata": {},
   "outputs": [
    {
     "name": "stdout",
     "output_type": "stream",
     "text": [
      "Current size: (52948, 14)\n",
      "Previous size: (56207, 14)\n"
     ]
    }
   ],
   "source": [
    "\n",
    "df.dropna(subset=['Temperature_Average'], inplace = True)  # Drop rows with NaN in 'Daily_Average_Consumption_kWh' column\n",
    "df = df[df['Temperature_Average'].apply(lambda x: isinstance(x, float) and x > 0)] #! TODO: Values may not be float but still valid?\n",
    "df = outliersBeGone(df, 'Temperature_Average')  # Remove outliers from 'Daily_Average_Consumption_kWh' column\n",
    "dfSize(df)"
   ]
  },
  {
   "cell_type": "markdown",
   "metadata": {},
   "source": [
    "### Power outage \n",
    "**Maybe remove power outage as it is not a normal occurrence within a month?**"
   ]
  },
  {
   "cell_type": "code",
   "execution_count": 251,
   "metadata": {},
   "outputs": [
    {
     "name": "stdout",
     "output_type": "stream",
     "text": [
      "[0, 1, 3, 2]\n"
     ]
    }
   ],
   "source": [
    "printColumnValues(df, 'Power_Outages')"
   ]
  },
  {
   "cell_type": "code",
   "execution_count": 252,
   "metadata": {},
   "outputs": [],
   "source": [
    "import matplotlib.pyplot as plt\n",
    "import numpy as np\n",
    "import seaborn as sns\n"
   ]
  },
  {
   "cell_type": "code",
   "execution_count": null,
   "metadata": {},
   "outputs": [],
   "source": [
    "# Plot\n",
    "plt.figure(figsize=(12,10), dpi= 80)\n",
    "sns.heatmap(df.corr(), xticklabels=df.corr().columns, yticklabels=df.corr().columns, cmap='RdYlGn', center=0, annot=True)\n",
    "\n",
    "# Decorations\n",
    "plt.title('Correlogram of mtcars', fontsize=22)\n",
    "plt.xticks(fontsize=12)\n",
    "plt.yticks(fontsize=12)\n",
    "plt.show()"
   ]
  },
  {
   "cell_type": "code",
   "execution_count": 253,
   "metadata": {},
   "outputs": [],
   "source": [
    "summer = df[df['Season'] == 'Summer']\n",
    "winter = df[df['Season'] == 'Winter']\n",
    "spring = df[df['Season'] == 'Spring']\n",
    "autumn = df[df['Season'] == 'Autumn']"
   ]
  },
  {
   "cell_type": "code",
   "execution_count": 254,
   "metadata": {},
   "outputs": [
    {
     "data": {
      "image/png": "[encoded data removed]",
      "text/plain": [
       "<Figure size 1000x1000 with 4 Axes>"
      ]
     },
     "metadata": {},
     "output_type": "display_data"
    }
   ],
   "source": [
    "fig, axs = plt.subplots(2, 2, figsize=(10, 10))\n",
    "\n",
    "xColumn = 'Monthly_Consumption_kWh'\n",
    "yColumn = 'Heating_Type'\n",
    "\n",
    "# Summer plot\n",
    "axs[0, 0].scatter(summer[xColumn], summer[yColumn], color='red')\n",
    "axs[0, 0].set_title('Summer')\n",
    "\n",
    "# Winter plot\n",
    "axs[0, 1].scatter(winter[xColumn], winter[yColumn], color='blue')\n",
    "axs[0, 1].set_title('Winter')\n",
    "\n",
    "# Autumn plot\n",
    "axs[1, 0].scatter(autumn[xColumn], autumn[yColumn], color='orange')\n",
    "axs[1, 0].set_title('Autumn')\n",
    "\n",
    "# Spring plot\n",
    "axs[1, 1].scatter(spring[xColumn], spring[yColumn], color='green')\n",
    "axs[1, 1].set_title('Spring')\n",
    "\n",
    "for ax in axs.flat:\n",
    "    ax.set(xlabel=xColumn, ylabel=yColumn)\n",
    "\n",
    "plt.tight_layout()\n",
    "plt.show()"
   ]
  },
  {
   "cell_type": "code",
   "execution_count": 255,
   "metadata": {},
   "outputs": [
    {
     "data": {
      "image/png": "[encoded data removed]",
      "text/plain": [
       "<Figure size 1000x1000 with 4 Axes>"
      ]
     },
     "metadata": {},
     "output_type": "display_data"
    }
   ],
   "source": [
    "fig, axs = plt.subplots(2, 2, figsize=(10, 10))\n",
    "\n",
    "xColumn = 'Daily_Average_Consumption_kWh'\n",
    "\n",
    "# Summer plot\n",
    "axs[0, 0].boxplot(summer[xColumn])\n",
    "axs[0, 0].set_title('Summer')\n",
    "\n",
    "# Winter plot\n",
    "axs[0, 1].boxplot(winter[xColumn])\n",
    "axs[0, 1].set_title('Winter')\n",
    "\n",
    "# Autumn plot\n",
    "axs[1, 0].boxplot(autumn[xColumn])\n",
    "axs[1, 0].set_title('Autumn')\n",
    "\n",
    "# Spring plot\n",
    "axs[1, 1].boxplot(spring[xColumn])\n",
    "axs[1, 1].set_title('Spring')\n",
    "\n",
    "for ax in axs.flat:\n",
    "    ax.set(xlabel='Season', ylabel=xColumn)\n",
    "\n",
    "plt.tight_layout()\n",
    "plt.show()"
   ]
  },
  {
   "cell_type": "code",
   "execution_count": 256,
   "metadata": {},
   "outputs": [],
   "source": [
    "def outliersBeGone(df, column):\n",
    "    Q1 = df[column].quantile(0.25)\n",
    "    Q3 = df[column].quantile(0.75)\n",
    "    IQR = Q3 - Q1\n",
    "\n",
    "    dfOut = df[~((df[column] < (Q1 - 1.5 * IQR)) | (df[column] > (Q3 + 1.5 * IQR)))]\n",
    "    return dfOut"
   ]
  },
  {
   "cell_type": "code",
   "execution_count": 257,
   "metadata": {},
   "outputs": [
    {
     "name": "stdout",
     "output_type": "stream",
     "text": [
      "Current size: (52937, 14)\n",
      "Previous size: (52948, 14)\n"
     ]
    }
   ],
   "source": [
    "df = outliersBeGone(df, 'Daily_Average_Consumption_kWh')\n",
    "dfSize(df)"
   ]
  },
  {
   "cell_type": "code",
   "execution_count": null,
   "metadata": {},
   "outputs": [],
   "source": []
  },
  {
   "cell_type": "code",
   "execution_count": 258,
   "metadata": {},
   "outputs": [
    {
     "data": {
      "image/png": "[encoded data removed]",
      "text/plain": [
       "<Figure size 1000x1000 with 4 Axes>"
      ]
     },
     "metadata": {},
     "output_type": "display_data"
    }
   ],
   "source": [
    "summer = df[df['Season'] == 'Summer']\n",
    "winter = df[df['Season'] == 'Winter']\n",
    "spring = df[df['Season'] == 'Spring']\n",
    "autumn = df[df['Season'] == 'Autumn']\n",
    "    \n",
    "fig, axs = plt.subplots(2, 2, figsize=(10, 10))\n",
    "\n",
    "xColumn = 'Daily_Average_Consumption_kWh'\n",
    "\n",
    "# Summer plot\n",
    "axs[0, 0].boxplot(summer[xColumn])\n",
    "axs[0, 0].set_title('Summer')\n",
    "\n",
    "# Winter plot\n",
    "axs[0, 1].boxplot(winter[xColumn])\n",
    "axs[0, 1].set_title('Winter')\n",
    "\n",
    "# Autumn plot\n",
    "axs[1, 0].boxplot(autumn[xColumn])\n",
    "axs[1, 0].set_title('Autumn')\n",
    "\n",
    "# Spring plot\n",
    "axs[1, 1].boxplot(spring[xColumn])\n",
    "axs[1, 1].set_title('Spring')\n",
    "\n",
    "for ax in axs.flat:\n",
    "    ax.set(xlabel='Season', ylabel=xColumn)\n",
    "\n",
    "plt.tight_layout()\n",
    "plt.show()"
   ]
  },
  {
   "cell_type": "code",
   "execution_count": 259,
   "metadata": {},
   "outputs": [
    {
     "data": {
      "image/png": "[encoded data removed]",
      "text/plain": [
       "<Figure size 640x480 with 1 Axes>"
      ]
     },
     "metadata": {},
     "output_type": "display_data"
    }
   ],
   "source": [
    "plt.scatter(df['Daily_Average_Consumption_kWh'], df['Temperature_Average'])\n",
    "\n",
    "plt.xlabel('column1')\n",
    "plt.ylabel('column2')\n",
    "plt.title('Plot of column2 vs column1')\n",
    "\n",
    "plt.show()"
   ]
  },
  {
   "cell_type": "code",
   "execution_count": 260,
   "metadata": {},
   "outputs": [
    {
     "data": {
      "image/png": "[encoded data removed]",
      "text/plain": [
       "<Figure size 640x480 with 1 Axes>"
      ]
     },
     "metadata": {},
     "output_type": "display_data"
    }
   ],
   "source": [
    "plt.hist(df['Daily_Average_Consumption_kWh'], bins=60)\n",
    "\n",
    "plt.xlabel('Daily_Average_Consumption_kW')\n",
    "plt.ylabel('Frequency')\n",
    "plt.title('Histogram of Daily_Average_Consumption_kWh')\n",
    "\n",
    "plt.show()"
   ]
  },
  {
   "cell_type": "markdown",
   "metadata": {},
   "source": [
    "## Plots\n",
    "1. split the dataset into seasons\n",
    "2. "
   ]
  },
  {
   "cell_type": "code",
   "execution_count": 261,
   "metadata": {},
   "outputs": [
    {
     "ename": "SyntaxError",
     "evalue": "invalid syntax. Perhaps you forgot a comma? (1296034225.py, line 1)",
     "output_type": "error",
     "traceback": [
      "\u001b[1;36m  Cell \u001b[1;32mIn[261], line 1\u001b[1;36m\u001b[0m\n\u001b[1;33m    plt.plot(df[])\u001b[0m\n\u001b[1;37m             ^\u001b[0m\n\u001b[1;31mSyntaxError\u001b[0m\u001b[1;31m:\u001b[0m invalid syntax. Perhaps you forgot a comma?\n"
     ]
    }
   ],
   "source": [
    "plt.plot(df[])"
   ]
  }
 ],
 "metadata": {
  "kernelspec": {
   "display_name": "Python 3",
   "language": "python",
   "name": "python3"
  },
  "language_info": {
   "codemirror_mode": {
    "name": "ipython",
    "version": 3
   },
   "file_extension": ".py",
   "mimetype": "text/x-python",
   "name": "python",
   "nbconvert_exporter": "python",
   "pygments_lexer": "ipython3",
   "version": "3.10.11"
  }
 },
 "nbformat": 4,
 "nbformat_minor": 2
}
