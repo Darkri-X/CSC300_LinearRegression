{
 "cells": [
  {
   "cell_type": "code",
   "execution_count": null,
   "metadata": {},
   "outputs": [],
   "source": []
  },
  {
   "cell_type": "markdown",
   "metadata": {},
   "source": [
    "## Goal\n",
    "Use your data science knowledge to explore the data provided and create Linear Regression models to predict how many bikes will be rented based on historical information."
   ]
  },
  {
   "cell_type": "markdown",
   "metadata": {},
   "source": [
    "## Course Learning Outcomes (CLO) Assessed\n",
    "- CLO #1 Explain common models and processing pipelines in machine learning applications\n",
    "- CLO #2 Apply machine learning algorithms to design solutions for real problems\n",
    "- CLO #4 Analyse results and solutions to verify their correctness and impact on decision making"
   ]
  }
 ],
 "metadata": {
  "language_info": {
   "name": "python"
  }
 },
 "nbformat": 4,
 "nbformat_minor": 2
}
